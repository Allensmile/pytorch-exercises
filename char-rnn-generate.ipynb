{
 "cells": [
  {
   "cell_type": "code",
   "execution_count": 1,
   "metadata": {
    "collapsed": true,
    "deletable": true,
    "editable": true
   },
   "outputs": [],
   "source": [
    "import glob\n",
    "import unicodedata\n",
    "import string"
   ]
  },
  {
   "cell_type": "code",
   "execution_count": 2,
   "metadata": {
    "collapsed": false,
    "deletable": true,
    "editable": true
   },
   "outputs": [
    {
     "name": "stdout",
     "output_type": "stream",
     "text": [
      "['./data/names/Arabic.txt', './data/names/English.txt', './data/names/German.txt', './data/names/Vietnamese.txt', './data/names/Italian.txt', './data/names/Czech.txt', './data/names/Scottish.txt', './data/names/Dutch.txt', './data/names/Korean.txt', './data/names/Chinese.txt', './data/names/Greek.txt', './data/names/Irish.txt', './data/names/French.txt', './data/names/Portuguese.txt', './data/names/Russian.txt', './data/names/Japanese.txt', './data/names/Polish.txt', './data/names/Spanish.txt']\n"
     ]
    }
   ],
   "source": [
    "def find_files(path): return glob.glob(path)\n",
    "print(find_files('./data/names/*.txt'))"
   ]
  },
  {
   "cell_type": "code",
   "execution_count": 3,
   "metadata": {
    "collapsed": false,
    "deletable": true,
    "editable": true
   },
   "outputs": [
    {
     "name": "stdout",
     "output_type": "stream",
     "text": [
      "Slusarski\n"
     ]
    }
   ],
   "source": [
    "all_letters = string.ascii_letters + \" .,;'-\"\n",
    "n_letters = len(all_letters) + 1 # plus EOS marker\n",
    "\n",
    "# Turn a Unicode string to plain ASCII, thanks to http://stackoverflow.com/a/518232/2809427\n",
    "def unicode2ascii(s):\n",
    "    return ''.join(\n",
    "        c for c in unicodedata.normalize('NFD', s)\n",
    "        if unicodedata.category(c) != 'Mn'\n",
    "        and c in all_letters\n",
    "    )\n",
    "\n",
    "# Read a file and split into lines\n",
    "def read_lines(filename):\n",
    "    lines = open(filename).read().strip().split('\\n')\n",
    "    return [unicode2ascii(line) for line in lines]\n",
    "\n",
    "print(unicode2ascii(\"Ślusàrski\"))"
   ]
  },
  {
   "cell_type": "code",
   "execution_count": 4,
   "metadata": {
    "collapsed": false,
    "deletable": true,
    "editable": true
   },
   "outputs": [],
   "source": [
    "# Build the category_lines dictionary, a list of names per language\n",
    "category_lines = {}\n",
    "all_categories = []\n",
    "\n",
    "for filename in find_files('./data/names/*.txt'):\n",
    "    category = filename.split('/')[-1].split('.')[0]\n",
    "    all_categories.append(category)\n",
    "    lines = read_lines(filename)\n",
    "    category_lines[category] = lines\n",
    "\n",
    "n_categories = len(all_categories)"
   ]
  },
  {
   "cell_type": "code",
   "execution_count": 5,
   "metadata": {
    "collapsed": false,
    "deletable": true,
    "editable": true
   },
   "outputs": [
    {
     "name": "stdout",
     "output_type": "stream",
     "text": [
      "# categories:  18 ['Arabic', 'English', 'German', 'Vietnamese', 'Italian', 'Czech', 'Scottish', 'Dutch', 'Korean', 'Chinese', 'Greek', 'Irish', 'French', 'Portuguese', 'Russian', 'Japanese', 'Polish', 'Spanish']\n",
      "Korean Samples ['Ahn', 'Baik', 'Bang', 'Byon', 'Cha']\n"
     ]
    }
   ],
   "source": [
    "print(\"# categories: \", n_categories, all_categories)\n",
    "print(\"Korean Samples\", category_lines['Korean'][:5])"
   ]
  },
  {
   "cell_type": "code",
   "execution_count": 6,
   "metadata": {
    "collapsed": true,
    "deletable": true,
    "editable": true
   },
   "outputs": [],
   "source": [
    "import torch\n",
    "import torch.nn as nn\n",
    "from torch.autograd import Variable\n",
    "\n",
    "class RNN(nn.Module):\n",
    "    def __init__(self, input_size, hidden_size, output_size):\n",
    "        super(RNN, self).__init__()\n",
    "        self.hidden_size = hidden_size\n",
    "        \n",
    "        self.i2h = nn.Linear(n_categories + input_size + hidden_size, hidden_size)\n",
    "        self.i2o = nn.Linear(n_categories + input_size + hidden_size, output_size)\n",
    "        self.o2o = nn.Linear(hidden_size + output_size, output_size)\n",
    "        self.dropout = nn.Dropout(0.1)\n",
    "        self.softmax = nn.LogSoftmax()\n",
    "    \n",
    "    def forward(self, category, input, hidden):\n",
    "        input_combined = torch.cat((category, input, hidden), 1)\n",
    "        hidden = self.i2h(input_combined)\n",
    "        output = self.i2o(input_combined)\n",
    "        output_combined = torch.cat((hidden, output), 1)\n",
    "        output = self.o2o(output_combined)\n",
    "        output = self.dropout(output)\n",
    "        output = self.softmax(output)\n",
    "        return output, hidden\n",
    "    \n",
    "    def init_hidden(self):\n",
    "        return Variable(torch.zeros(1, self.hidden_size))"
   ]
  },
  {
   "cell_type": "code",
   "execution_count": 7,
   "metadata": {
    "collapsed": true,
    "deletable": true,
    "editable": true
   },
   "outputs": [],
   "source": [
    "import random\n",
    "\n",
    "# Random item from a list\n",
    "def randomChoice(l):\n",
    "    return l[random.randint(0, len(l) - 1)]\n",
    "\n",
    "# Get a random category and random line from that category\n",
    "def randomTrainingPair():\n",
    "    category = randomChoice(all_categories)\n",
    "    line = randomChoice(category_lines[category])\n",
    "    return category, line"
   ]
  },
  {
   "cell_type": "code",
   "execution_count": 8,
   "metadata": {
    "collapsed": true
   },
   "outputs": [],
   "source": [
    "# One-hot vector for category\n",
    "def categoryTensor(category):\n",
    "    li = all_categories.index(category)\n",
    "    tensor = torch.zeros(1, n_categories)\n",
    "    tensor[0][li] = 1\n",
    "    return tensor\n",
    "\n",
    "# One-hot matrix of first to last letters (not including EOS) for input\n",
    "def inputTensor(line):\n",
    "    tensor = torch.zeros(len(line), 1, n_letters)\n",
    "    for li in range(len(line)):\n",
    "        letter = line[li]\n",
    "        tensor[li][0][all_letters.find(letter)] = 1\n",
    "    return tensor\n",
    "\n",
    "# LongTensor of second letter to end (EOS) for target\n",
    "def targetTensor(line):\n",
    "    letter_indexes = [all_letters.find(line[li]) for li in range(1, len(line))]\n",
    "    letter_indexes.append(n_letters - 1) # EOS\n",
    "    return torch.LongTensor(letter_indexes)"
   ]
  },
  {
   "cell_type": "code",
   "execution_count": 9,
   "metadata": {
    "collapsed": true
   },
   "outputs": [],
   "source": [
    "\n",
    "# Make category, input, and target tensors from a random category, line pair\n",
    "def randomTrainingSet():\n",
    "    category, line = randomTrainingPair()\n",
    "    category_tensor = Variable(categoryTensor(category))\n",
    "    input_line_tensor = Variable(inputTensor(line))\n",
    "    target_line_tensor = Variable(targetTensor(line))\n",
    "    return category_tensor, input_line_tensor, target_line_tensor"
   ]
  },
  {
   "cell_type": "code",
   "execution_count": 10,
   "metadata": {
    "collapsed": true
   },
   "outputs": [],
   "source": [
    "criterion = nn.NLLLoss()\n",
    "\n",
    "learning_rate = 0.0005\n",
    "\n",
    "def train(category_tensor, input_line_tensor, target_line_tensor):\n",
    "    hidden = rnn.init_hidden()\n",
    "\n",
    "    rnn.zero_grad()\n",
    "    \n",
    "    loss = 0\n",
    "    \n",
    "    for i in range(input_line_tensor.size()[0]):\n",
    "        output, hidden = rnn(category_tensor, input_line_tensor[i], hidden)\n",
    "        loss += criterion(output, target_line_tensor[i])\n",
    "\n",
    "    loss.backward()\n",
    "\n",
    "    for p in rnn.parameters():\n",
    "        p.data.add_(-learning_rate, p.grad.data)\n",
    "\n",
    "    return output, loss.data[0] / input_line_tensor.size()[0]"
   ]
  },
  {
   "cell_type": "code",
   "execution_count": 11,
   "metadata": {
    "collapsed": true
   },
   "outputs": [],
   "source": [
    "\n",
    "import time\n",
    "import math\n",
    "\n",
    "def timeSince(since):\n",
    "    now = time.time()\n",
    "    s = now - since\n",
    "    m = math.floor(s / 60)\n",
    "    s -= m * 60\n",
    "    return '%dm %ds' % (m, s)"
   ]
  },
  {
   "cell_type": "code",
   "execution_count": 12,
   "metadata": {
    "collapsed": false
   },
   "outputs": [
    {
     "name": "stdout",
     "output_type": "stream",
     "text": [
      "0m 19s (5000 5%) 2.6837\n",
      "0m 37s (10000 10%) 1.9344\n",
      "1m 2s (15000 15%) 3.1829\n",
      "1m 20s (20000 20%) 2.0901\n",
      "1m 37s (25000 25%) 2.2600\n",
      "1m 54s (30000 30%) 2.4768\n",
      "2m 11s (35000 35%) 1.9242\n",
      "2m 48s (40000 40%) 3.0706\n",
      "3m 19s (45000 45%) 2.1971\n",
      "3m 56s (50000 50%) 2.3001\n",
      "4m 32s (55000 55%) 2.4356\n",
      "5m 5s (60000 60%) 2.7043\n",
      "5m 41s (65000 65%) 2.8568\n",
      "6m 25s (70000 70%) 2.9467\n",
      "6m 53s (75000 75%) 2.4472\n",
      "7m 26s (80000 80%) 2.0377\n",
      "7m 50s (85000 85%) 2.0354\n",
      "8m 14s (90000 90%) 2.9155\n",
      "8m 37s (95000 95%) 2.5176\n",
      "9m 0s (100000 100%) 3.0529\n"
     ]
    }
   ],
   "source": [
    "rnn = RNN(n_letters, 128, n_letters)\n",
    "\n",
    "n_epochs = 100000\n",
    "print_every = 5000\n",
    "plot_every = 500\n",
    "all_losses = []\n",
    "total_loss = 0 # Reset every plot_every epochs\n",
    "\n",
    "start = time.time()\n",
    "\n",
    "for epoch in range(1, n_epochs + 1):\n",
    "    output, loss = train(*randomTrainingSet())\n",
    "    total_loss += loss\n",
    "    \n",
    "    if epoch % print_every == 0:\n",
    "        print('%s (%d %d%%) %.4f' % (timeSince(start), epoch, epoch / n_epochs * 100, loss))\n",
    "\n",
    "    if epoch % plot_every == 0:\n",
    "        all_losses.append(total_loss / plot_every)\n",
    "        total_loss = 0"
   ]
  },
  {
   "cell_type": "code",
   "execution_count": 13,
   "metadata": {
    "collapsed": false
   },
   "outputs": [
    {
     "data": {
      "text/plain": [
       "[<matplotlib.lines.Line2D at 0x7f125e88f898>]"
      ]
     },
     "execution_count": 13,
     "metadata": {},
     "output_type": "execute_result"
    },
    {
     "data": {
      "image/png": "[encoded data removed]",
      "text/plain": [
       "<matplotlib.figure.Figure at 0x7f12acacec88>"
      ]
     },
     "metadata": {},
     "output_type": "display_data"
    }
   ],
   "source": [
    "import matplotlib.pyplot as plt\n",
    "import matplotlib.ticker as ticker\n",
    "%matplotlib inline\n",
    "\n",
    "plt.figure()\n",
    "plt.plot(all_losses)"
   ]
  },
  {
   "cell_type": "code",
   "execution_count": 33,
   "metadata": {
    "collapsed": true
   },
   "outputs": [],
   "source": [
    "max_length = 20\n",
    "\n",
    "# Sample from a category and starting letter\n",
    "def sample(category, start_letter='A'):\n",
    "    category_tensor = Variable(categoryTensor(category))\n",
    "    input = Variable(inputTensor(start_letter))\n",
    "    hidden = rnn.init_hidden()\n",
    "\n",
    "    output_name = start_letter\n",
    "    \n",
    "    for i in range(max_length):\n",
    "        output, hidden = rnn(category_tensor, input[0], hidden)\n",
    "        topv, topi = output.data.topk(1)\n",
    "        topi = topi[0][0]\n",
    "        if topi == n_letters - 1:\n",
    "            break\n",
    "        else:    \n",
    "            letter = all_letters[topi]\n",
    "            output_name += letter\n",
    "        input = Variable(inputTensor(letter))\n",
    "\n",
    "    return output_name\n",
    "\n",
    "# Get multiple samples from one category and multiple starting letters\n",
    "def samples(category, start_letters='ABC'):\n",
    "    for start_letter in start_letters:\n",
    "        print(sample(category, start_letter))"
   ]
  },
  {
   "cell_type": "code",
   "execution_count": 34,
   "metadata": {
    "collapsed": false
   },
   "outputs": [
    {
     "name": "stdout",
     "output_type": "stream",
     "text": [
      "\n",
      "\n",
      "Columns 0 to 7 \n",
      " -4.3618  -6.4685  -5.5572  -5.7780  -2.1311  -5.1758  -7.2366  -4.3618\n",
      "\n",
      "Columns 8 to 15 \n",
      " -2.9089  -7.3804  -4.3618  -5.5018  -6.8049  -5.3581  -2.0561  -6.3749\n",
      "\n",
      "Columns 16 to 23 \n",
      " -7.7400  -5.7679  -3.7401  -5.3510  -5.2909  -4.5763  -8.6225  -7.6426\n",
      "\n",
      "Columns 24 to 31 \n",
      " -3.7029  -6.6118 -10.0374  -4.3618 -10.0299 -10.1536 -10.5617 -10.0057\n",
      "\n",
      "Columns 32 to 39 \n",
      "-10.6159 -10.1043 -10.2568 -10.3292  -9.9136 -10.1090  -9.8665 -10.0643\n",
      "\n",
      "Columns 40 to 47 \n",
      "-10.1542 -10.2233 -10.2552 -10.0955  -4.3618  -4.3618 -10.3225 -10.1535\n",
      "\n",
      "Columns 48 to 55 \n",
      "-10.3798  -4.3618  -9.4846 -10.5004  -7.8044 -10.5546 -10.3649  -4.3618\n",
      "\n",
      "Columns 56 to 58 \n",
      " -4.3618  -9.6946  -0.7309\n",
      "[torch.FloatTensor of size 1x59]\n",
      "\n",
      "Rovakov\n",
      "\n",
      "\n",
      "Columns 0 to 7 \n",
      " -2.6788  -5.9787  -4.0485  -4.0485  -2.2653  -4.7267  -5.9963  -4.4737\n",
      "\n",
      "Columns 8 to 15 \n",
      " -3.3885  -6.3507  -4.4089  -4.0485  -6.3201  -4.9112  -2.5057  -4.0485\n",
      "\n",
      "Columns 16 to 23 \n",
      " -7.1685  -4.9019  -3.3162  -4.0485  -5.5367  -4.3063  -7.7782  -7.0433\n",
      "\n",
      "Columns 24 to 31 \n",
      " -3.7488  -5.9542  -4.0485  -9.5683  -9.4676  -9.5159  -9.8848  -9.4191\n",
      "\n",
      "Columns 32 to 39 \n",
      " -9.8855  -9.4618  -9.6554  -9.6305  -9.2810  -9.4778  -9.2664  -9.3336\n",
      "\n",
      "Columns 40 to 47 \n",
      " -9.4293  -4.0485  -9.6352  -9.4339  -9.8284  -9.3219  -9.5953  -9.3783\n",
      "\n",
      "Columns 48 to 55 \n",
      " -9.6766  -9.3245  -8.7606  -4.0485  -6.9446  -9.9242  -9.6035  -9.6714\n",
      "\n",
      "Columns 56 to 58 \n",
      "-10.4061  -9.1045  -0.8398\n",
      "[torch.FloatTensor of size 1x59]\n",
      "\n",
      "Uantanov\n",
      "\n",
      "\n",
      "Columns 0 to 7 \n",
      " -2.1858  -6.1611  -4.8507  -4.1367  -1.9766  -5.1331  -7.0398  -4.8450\n",
      "\n",
      "Columns 8 to 15 \n",
      " -2.5287  -7.0875  -4.1367  -5.1082  -6.5362  -5.0047  -2.2352  -6.1900\n",
      "\n",
      "Columns 16 to 23 \n",
      " -7.7156  -5.8143  -4.1367  -4.5919  -5.2901  -3.9507  -4.1367  -7.5146\n",
      "\n",
      "Columns 24 to 31 \n",
      " -3.4789  -6.0326  -9.9633 -10.1665  -9.9974 -10.0680 -10.5547 -10.0712\n",
      "\n",
      "Columns 32 to 39 \n",
      "-10.6065  -9.8598 -10.3478 -10.3225  -9.8276 -10.1775  -9.8774 -10.0152\n",
      "\n",
      "Columns 40 to 47 \n",
      "-10.0429 -10.1870 -10.2539 -10.0500  -4.1367  -9.7594 -10.2552 -10.2054\n",
      "\n",
      "Columns 48 to 55 \n",
      "-10.2663 -10.2237  -9.4943 -10.3988  -7.8236 -10.4719 -10.2825 -10.4001\n",
      "\n",
      "Columns 56 to 58 \n",
      "-10.7363  -9.7314  -1.0009\n",
      "[torch.FloatTensor of size 1x59]\n",
      "\n",
      "Shavavav\n"
     ]
    }
   ],
   "source": [
    "samples('Russian', 'RUS')"
   ]
  },
  {
   "cell_type": "code",
   "execution_count": 30,
   "metadata": {
    "collapsed": false
   },
   "outputs": [
    {
     "name": "stdout",
     "output_type": "stream",
     "text": [
      "Garten\n",
      "Eren\n",
      "Roure\n"
     ]
    }
   ],
   "source": [
    "samples('German', 'GER')"
   ]
  },
  {
   "cell_type": "code",
   "execution_count": 31,
   "metadata": {
    "collapsed": false
   },
   "outputs": [
    {
     "name": "stdout",
     "output_type": "stream",
     "text": [
      "Kon\n",
      "Oo\n",
      "Ro\n"
     ]
    }
   ],
   "source": [
    "samples('Korean', 'KOR')"
   ]
  },
  {
   "cell_type": "code",
   "execution_count": 32,
   "metadata": {
    "collapsed": false
   },
   "outputs": [
    {
     "name": "stdout",
     "output_type": "stream",
     "text": [
      "Can\n",
      "Han\n",
      "Iun\n"
     ]
    }
   ],
   "source": [
    "samples('Chinese', 'CHI')"
   ]
  },
  {
   "cell_type": "code",
   "execution_count": null,
   "metadata": {
    "collapsed": true
   },
   "outputs": [],
   "source": []
  }
 ],
 "metadata": {
  "kernelspec": {
   "display_name": "Python 3",
   "language": "python",
   "name": "python3"
  },
  "language_info": {
   "codemirror_mode": {
    "name": "ipython",
    "version": 3
   },
   "file_extension": ".py",
   "mimetype": "text/x-python",
   "name": "python",
   "nbconvert_exporter": "python",
   "pygments_lexer": "ipython3",
   "version": "3.5.2+"
  }
 },
 "nbformat": 4,
 "nbformat_minor": 2
}
